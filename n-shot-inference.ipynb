{
 "cells": [
  {
   "cell_type": "code",
   "execution_count": 2,
   "metadata": {},
   "outputs": [],
   "source": [
    "#TODO: load the base model using tensorflow\n",
    "\n",
    "# Loading the base model, the tokenizer and the config\n",
    "from datasets import load_dataset\n",
    "from transformers import AutoModelForSeq2SeqLM\n",
    "from transformers import AutoTokenizer\n",
    "from transformers import GenerationConfig\n"
   ]
  },
  {
   "cell_type": "code",
   "execution_count": 4,
   "metadata": {},
   "outputs": [],
   "source": [
    "\n",
    "model_name='google/flan-t5-base'\n",
    "xl_model_name = 'google/flan-t5-xl'\n",
    "\n",
    "model = AutoModelForSeq2SeqLM.from_pretrained(model_name)\n",
    "#model_xl = AutoModelForSeq2SeqLM.from_pretrained(xl_model_name)\n",
    "\n",
    "tokenizer = AutoTokenizer.from_pretrained(model_name, use_fast=True, batched = True)\n",
    "#tokenizer_xl = AutoTokenizer.from_pretrained(xl_model_name, use_fast=True, batched = True)\n",
    "#xl_model = AutoModelForSeq2SeqLM.from_pretrained(xl_model_name)"
   ]
  },
  {
   "cell_type": "code",
   "execution_count": 8,
   "metadata": {},
   "outputs": [],
   "source": [
    "import pandas as pd\n",
    "import csv\n",
    "\n",
    "submissions_filename = \"reddit_submissions_data.csv\"\n",
    "comments_filename = \"reddit_comments_data.csv\"\n",
    "comments_df = pd.read_csv(\"../redditanalysis/\"+comments_filename)"
   ]
  },
  {
   "cell_type": "code",
   "execution_count": 9,
   "metadata": {},
   "outputs": [
    {
     "data": {
      "text/html": [
       "<div>\n",
       "<style scoped>\n",
       "    .dataframe tbody tr th:only-of-type {\n",
       "        vertical-align: middle;\n",
       "    }\n",
       "\n",
       "    .dataframe tbody tr th {\n",
       "        vertical-align: top;\n",
       "    }\n",
       "\n",
       "    .dataframe thead th {\n",
       "        text-align: right;\n",
       "    }\n",
       "</style>\n",
       "<table border=\"1\" class=\"dataframe\">\n",
       "  <thead>\n",
       "    <tr style=\"text-align: right;\">\n",
       "      <th></th>\n",
       "      <th>ID</th>\n",
       "      <th>Comment</th>\n",
       "      <th>Unixtime</th>\n",
       "      <th>Upvotes</th>\n",
       "      <th>SubmissionID</th>\n",
       "    </tr>\n",
       "  </thead>\n",
       "  <tbody>\n",
       "    <tr>\n",
       "      <th>0</th>\n",
       "      <td>kwdnu7z</td>\n",
       "      <td>Ethereum [pros](/r/CryptoCurrency/comments/1bm...</td>\n",
       "      <td>1.711308e+09</td>\n",
       "      <td>1</td>\n",
       "      <td>1bmshtm</td>\n",
       "    </tr>\n",
       "    <tr>\n",
       "      <th>1</th>\n",
       "      <td>kwdqtko</td>\n",
       "      <td>Nobody knows shit</td>\n",
       "      <td>1.711309e+09</td>\n",
       "      <td>331</td>\n",
       "      <td>1bmshtm</td>\n",
       "    </tr>\n",
       "    <tr>\n",
       "      <th>2</th>\n",
       "      <td>kwdpxif</td>\n",
       "      <td>Ethereum could also top 20k. Or go back to 700...</td>\n",
       "      <td>1.711308e+09</td>\n",
       "      <td>549</td>\n",
       "      <td>1bmshtm</td>\n",
       "    </tr>\n",
       "    <tr>\n",
       "      <th>3</th>\n",
       "      <td>kwdsan3</td>\n",
       "      <td>Wtf is the point of following this sub every p...</td>\n",
       "      <td>1.711309e+09</td>\n",
       "      <td>137</td>\n",
       "      <td>1bmshtm</td>\n",
       "    </tr>\n",
       "    <tr>\n",
       "      <th>4</th>\n",
       "      <td>kwdqa7o</td>\n",
       "      <td>Could.</td>\n",
       "      <td>1.711309e+09</td>\n",
       "      <td>15</td>\n",
       "      <td>1bmshtm</td>\n",
       "    </tr>\n",
       "  </tbody>\n",
       "</table>\n",
       "</div>"
      ],
      "text/plain": [
       "        ID                                            Comment      Unixtime  \\\n",
       "0  kwdnu7z  Ethereum [pros](/r/CryptoCurrency/comments/1bm...  1.711308e+09   \n",
       "1  kwdqtko                                  Nobody knows shit  1.711309e+09   \n",
       "2  kwdpxif  Ethereum could also top 20k. Or go back to 700...  1.711308e+09   \n",
       "3  kwdsan3  Wtf is the point of following this sub every p...  1.711309e+09   \n",
       "4  kwdqa7o                                             Could.  1.711309e+09   \n",
       "\n",
       "   Upvotes SubmissionID  \n",
       "0        1      1bmshtm  \n",
       "1      331      1bmshtm  \n",
       "2      549      1bmshtm  \n",
       "3      137      1bmshtm  \n",
       "4       15      1bmshtm  "
      ]
     },
     "execution_count": 9,
     "metadata": {},
     "output_type": "execute_result"
    }
   ],
   "source": [
    "comments_df[:5]"
   ]
  },
  {
   "cell_type": "code",
   "execution_count": 10,
   "metadata": {},
   "outputs": [],
   "source": [
    "### Basic cleaning ###\n",
    "\n",
    "# Converted emojis to word representations, removed newlines and tabs\n",
    "\n",
    "comments_df = comments_df.dropna(axis=0, how='any')\n",
    "# remove removed comments\n",
    "comments_df=comments_df[comments_df[\"Comment\"]!=\"[removed]\"]\n",
    "# remove admin bot disclaimer comments \n",
    "comments_df = comments_df[~comments_df[\"Comment\"].str.contains(\"\\[pros\\]\\(/r/CryptoCurrency/\")]\n",
    "\n",
    "# \\s on reddit means sarcasm - how to best represent this? Important for sentiment analysis\n",
    "#comments_df[\"Comment\"].str.split(expand=True).stack().value_counts()\n",
    "#comments_df[\"Comment\"].replace('\\s', '*SARCASM*')"
   ]
  },
  {
   "cell_type": "code",
   "execution_count": null,
   "metadata": {},
   "outputs": [],
   "source": [
    "# Various prompts trialed\n",
    "\"\"\"\n",
    "prompt = f'''\\n{text}\"Which #Cryptocurrency# is this Reddit comment about and what is the sentiment?\n",
    "Sentiment options: {options_}.\n",
    "Output format: [#Cryptocurrency#, sentiment]'''\n",
    "\n",
    "prompt = f'''\\n{text}\"Which #Cryptocurrency# is this Reddit comment about and what is the sentiment?\n",
    "Sentiment options: {options_}.\n",
    "Output format: [#Cryptocurrency#, sentiment].\n",
    "Example output [\"Etherium\", negative]'''\n",
    "\n",
    "prompt = f'''\\n{text}What is the sentiment of this review?\\n{options_}'''\n",
    "\n",
    "\"\"\""
   ]
  },
  {
   "cell_type": "code",
   "execution_count": 39,
   "metadata": {},
   "outputs": [],
   "source": [
    "# take 20 comments to speed up the process\n",
    "comment_list = comments_df[\"Comment\"][:20]\n",
    "\n",
    "# Zero-shot inference\n",
    "\n",
    "# Sentiment only\n",
    "\n",
    "# Using the prompting technique from the imdb dataset sentiment type tasks described here https://github.com/google-research/FLAN/blob/main/flan/v2/flan_templates_branched.py\n",
    "options_ = {\"positive\", \"negative\", \"neutral\"}\n",
    "\n",
    "# Coins and sentiment\n",
    "\n",
    "# TODO: background/context + question\n",
    "def tokenize_prompt(data,  tokenizer):\n",
    "    dataset = []\n",
    "    options_ = {\"positive\", \"negative\", \"neutral\"}\n",
    "    processed_comments = []\n",
    "    \n",
    "    for text in data:\n",
    "        #### comment out the desired prompt ###\n",
    "        \n",
    "        ###################### ZERO SHOT ################################\n",
    "        # Note: zero-shot performs sufficiently well for sentiment extraction based on qualitative analysis #\n",
    "        \n",
    "        \"\"\"prompt = f'''\\n{text}\"Which #Cryptocurrency# is this Reddit comment about?\n",
    "    Example: \"Etherium\"'''\"\"\"\n",
    "        \n",
    "        # this prompt performs poorly, does not identify the currency\n",
    "        \"\"\"\n",
    "        prompt = f'''\\n{text}\"Which #Cryptocurrency# is this Reddit comment about and what is the sentiment?\n",
    "        Sentiment options: {options_}.\n",
    "        Output format: [#Cryptocurrency#, sentiment]'''\n",
    "        \"\"\"\n",
    "        \n",
    "        # this prompt performs poorly, does not identify the currency\n",
    "        \n",
    "        prompt = f'''\\n{text}\"Which #Cryptocurrency# is this Reddit comment about and what is the sentiment?\n",
    "        Sentiment options: {options_}.\n",
    "        Output format: [#Cryptocurrency#, sentiment].\n",
    "        Example output [\"Etherium\", negative]'''\n",
    "        \n",
    "        \"\"\"\n",
    "        prompt = f'''\\n{text}What is the sentiment of this review?\\n{options_}'''\n",
    "        \"\"\"\n",
    "        \n",
    "        ###################### ONE SHOT ################################\n",
    "        prompt = f'''\n",
    "        \\nExample:\n",
    "        \"I hate bitcoin and how slow it is.\"\n",
    "        Output: [\"bitcoin\", \"negative\"]\n",
    "        \n",
    "        \\n{text}\"Which #Cryptocurrency# is this Reddit comment about and what is the sentiment?\n",
    "        Output -> ?\n",
    "        '''\n",
    "        \n",
    "        \"\"\"\n",
    "        prompt = f'''\\n{text}What is the sentiment of this review?\\n{options_}'''\n",
    "        \"\"\"\n",
    "        inputs = tokenizer(prompt, return_tensors='pt')\n",
    "        # save the prompt and the original comment\n",
    "        dataset.append([inputs, text])\n",
    "    return dataset\n",
    "\n",
    "def get_sentiment(model, tokenizer, comment_list):\n",
    "    data = tokenize_prompt(comment_list, tokenizer)\n",
    "    options_ = {\"positive\", \"negative\", \"neutral\"}\n",
    "    processed_comments = []\n",
    "    \n",
    "    for inputs in data:\n",
    "        output = tokenizer.decode(\n",
    "            model.generate(\n",
    "                inputs[0]['input_ids'], \n",
    "                )[0], \n",
    "                skip_special_tokens=True\n",
    "        )\n",
    "        processed_comments.append([inputs[1], output])\n",
    "    return processed_comments\n",
    "\n"
   ]
  },
  {
   "cell_type": "code",
   "execution_count": 37,
   "metadata": {},
   "outputs": [
    {
     "name": "stderr",
     "output_type": "stream",
     "text": [
      "C:\\Users\\olgakh\\AppData\\Local\\Packages\\PythonSoftwareFoundation.Python.3.11_qbz5n2kfra8p0\\LocalCache\\local-packages\\Python311\\site-packages\\transformers\\generation\\utils.py:1288: UserWarning: Using `max_length`'s default (20) to control the generation length. This behaviour is deprecated and will be removed from the config in v5 of Transformers -- we recommend using `max_new_tokens` to control the maximum length of the generation.\n",
      "  warnings.warn(\n"
     ]
    },
    {
     "data": {
      "text/plain": [
       "[['Nobody knows shit', 'negative'],\n",
       " ['Ethereum could also top 20k. Or go back to 700$. Or 7k. Or anything else',\n",
       "  'negative'],\n",
       " ['Wtf is the point of following this sub every post is the exact same unfounded prediction.',\n",
       "  'negative'],\n",
       " ['Could.', 'negative'],\n",
       " ['It will either go up or down says my crystal ball :crystal_ball: with 100% accuracy',\n",
       "  'negative'],\n",
       " [\"tldr; Standard Chartered predicts Ethereum could reach $8,000 by the end of this year and possibly $14,000 by 2025, contingent on the approval of spot Ethereum exchange-traded funds (ETFs) by the SEC. The bank's optimism is partly due to Ethereum's recent upgrade, which is expected to significantly reduce transaction fees, making the network more competitive. Additionally, Standard Chartered also forecasts Bitcoin could hit $150,000 per coin by year-end, following the approval and popularity of Bitcoin ETFs. *This summary is auto generated by a bot and not meant to replace reading the original article. As always, DYOR.\",\n",
       "  'negative'],\n",
       " ['Source: trust me bro', 'negative'],\n",
       " ['I think $37k ETH, $272k BTC', 'negative'],\n",
       " ['Coin stock is probably the shining star for crypto, onboarding both institutions and retail, also coin would actually be super profitable onboarding all the institutions to crypto. Wouldn’t be surprised coinbase announcing special dividends for quite a few times later this year drawing in investors from all fronts. 1k eoy is the target for coin stock.',\n",
       "  'negative'],\n",
       " ['Pretty much everyone I know says eth $10k target meaning we’re going to smash through that level',\n",
       "  'negative'],\n",
       " ['Lots of things could happen. It could go down to 100 dollars.', 'negative'],\n",
       " ['Price prediction posts should be banned.', 'negative'],\n",
       " ['Remember \"Ethereum to 10k 2021\" was the counterpart to \"Bitcoin to 100k 2021.\"',\n",
       "  'negative'],\n",
       " ['Around 10k seems reasonable to me', 'negative'],\n",
       " ['Stop posting this shit', 'negative'],\n",
       " ['Can we please start banning this kind of post??', 'negative'],\n",
       " ['ETH 14k EOY 2021', 'negative'],\n",
       " ['Meh probably around $5-6k this year maybe $8-9k next year barring a bear market. It also has a fairly strong correlation with the S&P. BTC and ETH are good indicators of fear like VIX for the market now. The first the fall the last to rise. If you look at the stock market rise late last year it preceded the crypto rise early this year. Now they’ve fallen it’s probably a harbinger that the money that will propel this assets upwards has outflowed outwards to safer assets.',\n",
       "  'negative'],\n",
       " ['If we get an ETF we will. But it looks doubtful.', 'negative'],\n",
       " [\"You're damn right it could\", 'negative']]"
      ]
     },
     "execution_count": 37,
     "metadata": {},
     "output_type": "execute_result"
    }
   ],
   "source": [
    "comments_sentiment = get_sentiment(model, tokenizer, comment_list)\n",
    "comments_sentiment"
   ]
  },
  {
   "cell_type": "code",
   "execution_count": 23,
   "metadata": {},
   "outputs": [
    {
     "data": {
      "text/plain": [
       "[['Nobody knows shit', 'crypto'],\n",
       " ['Ethereum could also top 20k. Or go back to 700$. Or 7k. Or anything else',\n",
       "  'ethereum'],\n",
       " ['Wtf is the point of following this sub every post is the exact same unfounded prediction.',\n",
       "  '@sad_sad_sad_sad_sa'],\n",
       " ['Could.', 'crypto'],\n",
       " ['It will either go up or down says my crystal ball :crystal_ball: with 100% accuracy',\n",
       "  'Cryptocurrency'],\n",
       " [\"tldr; Standard Chartered predicts Ethereum could reach $8,000 by the end of this year and possibly $14,000 by 2025, contingent on the approval of spot Ethereum exchange-traded funds (ETFs) by the SEC. The bank's optimism is partly due to Ethereum's recent upgrade, which is expected to significantly reduce transaction fees, making the network more competitive. Additionally, Standard Chartered also forecasts Bitcoin could hit $150,000 per coin by year-end, following the approval and popularity of Bitcoin ETFs. *This summary is auto generated by a bot and not meant to replace reading the original article. As always, DYOR.\",\n",
       "  'Ethereum'],\n",
       " ['Source: trust me bro', 'crypto'],\n",
       " ['I think $37k ETH, $272k BTC', 'ETH'],\n",
       " ['Coin stock is probably the shining star for crypto, onboarding both institutions and retail, also coin would actually be super profitable onboarding all the institutions to crypto. Wouldn’t be surprised coinbase announcing special dividends for quite a few times later this year drawing in investors from all fronts. 1k eoy is the target for coin stock.',\n",
       "  'coin stock'],\n",
       " ['Pretty much everyone I know says eth $10k target meaning we’re going to smash through that level',\n",
       "  'eth'],\n",
       " ['Lots of things could happen. It could go down to 100 dollars.', 'crypto'],\n",
       " ['Price prediction posts should be banned.', 'price prediction'],\n",
       " ['Remember \"Ethereum to 10k 2021\" was the counterpart to \"Bitcoin to 100k 2021.\"',\n",
       "  'Bitcoin'],\n",
       " ['Around 10k seems reasonable to me', 'crypto'],\n",
       " ['Stop posting this shit', 'Cryptocurrency'],\n",
       " ['Can we please start banning this kind of post??', 'Cryptocurrency'],\n",
       " ['ETH 14k EOY 2021', 'eth'],\n",
       " ['Meh probably around $5-6k this year maybe $8-9k next year barring a bear market. It also has a fairly strong correlation with the S&P. BTC and ETH are good indicators of fear like VIX for the market now. The first the fall the last to rise. If you look at the stock market rise late last year it preceded the crypto rise early this year. Now they’ve fallen it’s probably a harbinger that the money that will propel this assets upwards has outflowed outwards to safer assets.',\n",
       "  'btc'],\n",
       " ['If we get an ETF we will. But it looks doubtful.', 'ETF'],\n",
       " [\"You're damn right it could\", 'crypto']]"
      ]
     },
     "execution_count": 23,
     "metadata": {},
     "output_type": "execute_result"
    }
   ],
   "source": [
    "# extract only coin\n",
    "comments_coins_sentiment = get_sentiment(model, tokenizer, comment_list, get_coins=True)\n",
    "comments_coins_sentiment"
   ]
  },
  {
   "cell_type": "code",
   "execution_count": null,
   "metadata": {},
   "outputs": [],
   "source": [
    "# TODO: a different dataset: post text + top level comments\n",
    "# Model gets post text as context, then a top-level comment"
   ]
  }
 ],
 "metadata": {
  "kernelspec": {
   "display_name": "Python 3",
   "language": "python",
   "name": "python3"
  },
  "language_info": {
   "codemirror_mode": {
    "name": "ipython",
    "version": 3
   },
   "file_extension": ".py",
   "mimetype": "text/x-python",
   "name": "python",
   "nbconvert_exporter": "python",
   "pygments_lexer": "ipython3",
   "version": "3.11.8"
  }
 },
 "nbformat": 4,
 "nbformat_minor": 2
}
