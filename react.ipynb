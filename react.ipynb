{
 "cells": [
  {
   "cell_type": "code",
   "execution_count": 1,
   "metadata": {},
   "outputs": [],
   "source": [
    "%%capture\n",
    "# update or install the necessary libraries\n",
    "'''!pip install --upgrade openai\n",
    "!pip install --upgrade langchain\n",
    "!pip install --upgrade python-dotenv\n",
    "!pip install google-search-results\n",
    "''' \n",
    "# import libraries\n",
    "import openai\n",
    "import os\n",
    "from langchain.llms import OpenAI\n",
    "from langchain.agents import load_tools\n",
    "from langchain.agents import initialize_agent"
   ]
  },
  {
   "cell_type": "code",
   "execution_count": 8,
   "metadata": {},
   "outputs": [
    {
     "data": {
      "text/plain": [
       "'\\nAct as a SEO expect.\\nProvide an SEO optimized description for the following product: Electric Scooter\\n'"
      ]
     },
     "execution_count": 8,
     "metadata": {},
     "output_type": "execute_result"
    }
   ],
   "source": [
    "from langchain import PromptTemplate\n",
    "\n",
    "# Define the template\n",
    "template = \"\"\"\n",
    "Act as a SEO expect.\n",
    "Provide an SEO optimized description for the following product: {product}\n",
    "\"\"\"\n",
    "\n",
    "# Create the prompt template\n",
    "prompt = PromptTemplate(\n",
    "\tinput_variables=[\"product\"], \n",
    "\ttemplate=template\n",
    ")\n",
    "\n",
    "# pass in an input to return a formatted prompt\n",
    "prompt.format(product=\"Electric Scooter\")"
   ]
  },
  {
   "cell_type": "code",
   "execution_count": 74,
   "metadata": {},
   "outputs": [
    {
     "data": {
      "text/plain": [
       "[('Bitcoin', 'BTC'),\n",
       " ('Ethereum', 'ETH'),\n",
       " ('Tether USDt', 'USDT'),\n",
       " ('BNB', 'BNB')]"
      ]
     },
     "execution_count": 74,
     "metadata": {},
     "output_type": "execute_result"
    }
   ],
   "source": [
    "from langchain_community.document_loaders import AsyncChromiumLoader\n",
    "from langchain_community.document_transformers import BeautifulSoupTransformer\n",
    "from bs4 import BeautifulSoup    \n",
    "\n",
    "import requests\n",
    "\n",
    "# scrape top 20 (?) coin names and abbreviations \n",
    "# can work around the load more functionality later to get more comments\n",
    "response = requests.get(\"https://coinmarketcap.com/all/views/all/\")\n",
    "soup = BeautifulSoup(response.text, 'html.parser')\n",
    "coin_elements = soup.find_all(\"td\", class_=\"cmc-table__cell cmc-table__cell--sticky cmc-table__cell--sortable cmc-table__cell--left cmc-table__cell--sort-by__name\")\n",
    "# Extract coin names and abbreviations \n",
    "coin_data = [(coin.find(\"a\")['title'] , coin.find(\"a\").text) for coin in coin_elements] \n",
    "coin_data[:4]"
   ]
  },
  {
   "cell_type": "code",
   "execution_count": 75,
   "metadata": {},
   "outputs": [
    {
     "data": {
      "text/plain": [
       "20"
      ]
     },
     "execution_count": 75,
     "metadata": {},
     "output_type": "execute_result"
    }
   ],
   "source": [
    "len(coin_data)"
   ]
  }
 ],
 "metadata": {
  "kernelspec": {
   "display_name": "Python 3",
   "language": "python",
   "name": "python3"
  },
  "language_info": {
   "codemirror_mode": {
    "name": "ipython",
    "version": 3
   },
   "file_extension": ".py",
   "mimetype": "text/x-python",
   "name": "python",
   "nbconvert_exporter": "python",
   "pygments_lexer": "ipython3",
   "version": "3.11.8"
  }
 },
 "nbformat": 4,
 "nbformat_minor": 2
}
